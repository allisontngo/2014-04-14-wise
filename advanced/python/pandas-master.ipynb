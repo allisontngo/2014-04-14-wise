{
 "metadata": {
  "name": ""
 },
 "nbformat": 3,
 "nbformat_minor": 0,
 "worksheets": [
  {
   "cells": [
    {
     "cell_type": "markdown",
     "metadata": {},
     "source": [
      "# Pandas for data wrangling\n",
      "\n",
      "_Prepared by: Cindee Madison  \n"
     ]
    },
    {
     "cell_type": "markdown",
     "metadata": {},
     "source": [
      "## 1. Introduction\n",
      "\n",
      "\n",
      "We will use **pandas** to easily read, modify, and write back out a comma-separated-values (csv) file, and Excel Files.\n",
      "\n"
     ]
    },
    {
     "cell_type": "markdown",
     "metadata": {},
     "source": [
      "###Pandas\n",
      "\n",
      "There are several packages for dealing with structured data in a more intelligent way (e.g., see [matplotlib.mlab](http://matplotlib.org/api/mlab_api.html) and [recarrays](http://docs.scipy.org/doc/numpy/reference/generated/numpy.recarray.html).  However, in recent years, [Pandas]( http://pandas.pydata.org/) has risen above the rest in its usability and flexibility.\n",
      "\n",
      "Pandas is one of the most powerful tools for doing data analysis in python.  It provides a way of representing, reading/writing, manipulating, analyzing, and plotting your data (among others). It has a fairly steep learning curve, but we assure you it will be worth it.\n",
      "\n",
      "The main data structure in Pandas is known as the \"DataFrame\" (which is quite similar to a Dataframe in R, if you're into that kind of thing...).  It let's you conveniently and clearly store, manipulate, plot, store, filter, etc, all kinds of data.\n",
      "\n",
      "While we can create dataframes manually, here we will use Pandas I/O functionality, which can easily read from csv files (and from many others as well, such as JSON, HTML, mySQL, or HDF)\n",
      "\n",
      ">Note - Pandas can do *a lot*, and it's a very complicated package to understand in full.  For this tutorial, we will stick with reading in data, looking at it, and writing it     back to a file.  If you want to do more with pandas, check out the [extensive documentation](http://pandas.pydata.org/pandas-docs/stable/) online (though be prepared for a relatively steep learning curve)"
     ]
    },
    {
     "cell_type": "markdown",
     "metadata": {},
     "source": [
      "### Files you will need if not working in the repo\n",
      "\n",
      "[small_sample.csv](http://swcarpentry.github.io/2014-04-14-wise/advanced/python/small_sample.csv)\n",
      "\n",
      "[sightings.xls](http://swcarpentry.github.io/2014-04-14-wise/advanced/python/sightings.xls)\n"
     ]
    },
    {
     "cell_type": "code",
     "collapsed": false,
     "input": [
      "try:\n",
      "    %matplotlib inline\n",
      "except:\n",
      "    %pylab inline\n",
      "import pandas as pd\n",
      "import matplotlib.pyplot as plt"
     ],
     "language": "python",
     "metadata": {},
     "outputs": []
    },
    {
     "cell_type": "code",
     "collapsed": false,
     "input": [
      "## look at the csv file\n",
      "!cat small_sample.csv"
     ],
     "language": "python",
     "metadata": {},
     "outputs": []
    },
    {
     "cell_type": "code",
     "collapsed": false,
     "input": [
      "# First we will read in the data from the CSV file.\n",
      "# Pandas has inherent fanciness that displays data in nice tabular format.\n",
      "csv_file = 'small_sample.csv'\n",
      "df = pd.read_csv(csv_file)\n",
      "df"
     ],
     "language": "python",
     "metadata": {},
     "outputs": []
    },
    {
     "cell_type": "code",
     "collapsed": false,
     "input": [
      "## DataFrames can hold multiple different datatypes\n",
      "print type(df.Date.values[0])  # dates are currently strings\n",
      "print df.dtypes\n",
      "## Count is a int64"
     ],
     "language": "python",
     "metadata": {},
     "outputs": []
    },
    {
     "cell_type": "markdown",
     "metadata": {},
     "source": [
      "##Columns\n",
      "\n",
      "Data frames have columns, which we can use to access the data in a column\n",
      "\n",
      "* If the column name is a simple word we can access via an attribute reference\n",
      "\n",
      "    ``` \n",
      "    df.Animal\n",
      "    ```\n",
      "   \n",
      "* Columns can also be accessed much like a dictionary\n",
      "\n",
      "    ```\n",
      "    df['Animal']\n",
      "    ```\n",
      "    "
     ]
    },
    {
     "cell_type": "code",
     "collapsed": false,
     "input": [
      "# a dataframe has colums. We use the columns names to access each column\n",
      "df.columns"
     ],
     "language": "python",
     "metadata": {},
     "outputs": []
    },
    {
     "cell_type": "code",
     "collapsed": false,
     "input": [
      "## we can access the data in each column in two ways\n",
      "## This works if the column names are simple single words, if a column header has spaces\n",
      "## or special character (like % or &) then you need to specify the exact string\n",
      "df['Animal']\n",
      "df.Animal\n"
     ],
     "language": "python",
     "metadata": {},
     "outputs": []
    },
    {
     "cell_type": "markdown",
     "metadata": {},
     "source": [
      "### Exercise\n",
      "\n",
      "Access the animal column\n",
      "\n",
      "how can you find unique animals?\n",
      "\n",
      "hint set?"
     ]
    },
    {
     "cell_type": "code",
     "collapsed": false,
     "input": [
      "unique_animals = set(df.Animal)\n",
      "print unique_animals"
     ],
     "language": "python",
     "metadata": {},
     "outputs": []
    },
    {
     "cell_type": "markdown",
     "metadata": {},
     "source": [
      "##Series\n",
      "\n",
      "One column from a DataFrame is a Series\n",
      "\n",
      "http://pandas.pydata.org/pandas-docs/stable/dsintro.html\n",
      "\n",
      "\n",
      "* You can slice a Series like an array\n",
      "* You can slice a series like a dict\n",
      "* you can use vectorized operations on a series\n",
      "    "
     ]
    },
    {
     "cell_type": "code",
     "collapsed": false,
     "input": [
      "counts = df.Count\n",
      "type(counts)\n",
      "\n"
     ],
     "language": "python",
     "metadata": {},
     "outputs": []
    },
    {
     "cell_type": "code",
     "collapsed": false,
     "input": [
      "print counts.index\n",
      "##I can make the index a set of names\n",
      "counts.index = df.Animal\n",
      "print counts\n"
     ],
     "language": "python",
     "metadata": {},
     "outputs": []
    },
    {
     "cell_type": "code",
     "collapsed": false,
     "input": [
      "#I can index like an array\n",
      "print 'array-like'\n",
      "print counts[0]\n",
      "#or like a dictionary\n",
      "print 'dict-like'\n",
      "print counts['Owl']"
     ],
     "language": "python",
     "metadata": {},
     "outputs": []
    },
    {
     "cell_type": "code",
     "collapsed": false,
     "input": [
      "# Vectorized operation on values\n",
      "counts * 2"
     ],
     "language": "python",
     "metadata": {},
     "outputs": []
    },
    {
     "cell_type": "markdown",
     "metadata": {},
     "source": [
      "### Exercise\n",
      "\n",
      "Create a series by grabbing the Animal column\n",
      "\n",
      "What happens if you use a vectorized operation on string values?\n",
      "\n"
     ]
    },
    {
     "cell_type": "code",
     "collapsed": false,
     "input": [
      "animals = df.Animal\n",
      "animals * 2"
     ],
     "language": "python",
     "metadata": {},
     "outputs": []
    },
    {
     "cell_type": "markdown",
     "metadata": {},
     "source": [
      "##DataFrames are made up of Series\n",
      "\n",
      "* You can easily create a new dataframe from a subset of columns"
     ]
    },
    {
     "cell_type": "code",
     "collapsed": false,
     "input": [
      "# I can create a new dataframe form a subset of columns easily\n",
      "small_df = df[['Animal', 'Count']]\n",
      "print small_df"
     ],
     "language": "python",
     "metadata": {},
     "outputs": []
    },
    {
     "cell_type": "code",
     "collapsed": false,
     "input": [
      "## Accessing rows is a little more difficult\n",
      "## df[0] # This will raise an error\n",
      "## Tho I can slice to get a few rows\n",
      "df[:2]"
     ],
     "language": "python",
     "metadata": {},
     "outputs": []
    },
    {
     "cell_type": "markdown",
     "metadata": {},
     "source": [
      "## To slice a row, you need to use .ix"
     ]
    },
    {
     "cell_type": "code",
     "collapsed": false,
     "input": [
      "df.ix[2]"
     ],
     "language": "python",
     "metadata": {},
     "outputs": []
    },
    {
     "cell_type": "code",
     "collapsed": false,
     "input": [
      "# Note that we can explicitly turn our values into an array\n",
      "# by using the \"values\" attribute\n",
      "type(df.values)"
     ],
     "language": "python",
     "metadata": {},
     "outputs": []
    },
    {
     "cell_type": "code",
     "collapsed": false,
     "input": [
      "## If we explicity grab the values as a numpy array, we can easily index\n",
      "## First row, all columns\n",
      "df.values[2,:]"
     ],
     "language": "python",
     "metadata": {},
     "outputs": []
    },
    {
     "cell_type": "markdown",
     "metadata": {},
     "source": [
      "### There are a large number of control parameters when reading a csv\n",
      "1. sep : default is comma, but you can specify '\\t' (tab) or if unsure, try sep=None\n",
      "2. skiprows : sometimes you want to skip a couple rows, eg skiprows = 2\n",
      "\n",
      "To find all the options\n",
      "pd.read_csv?"
     ]
    },
    {
     "cell_type": "markdown",
     "metadata": {},
     "source": [
      "## You can use pandas to write a new files\n",
      "1. we created small_df above, just holding Animal and Count. We can write this to a new file:\n",
      "\n",
      "    small_df.to_csv('small_sample.csv')"
     ]
    },
    {
     "cell_type": "code",
     "collapsed": false,
     "input": [
      "# write small_df to a file called small_sample.csv\n",
      "# check that is exists using !ls\n",
      "small_df.to_csv('small_sample.csv')\n",
      "!ls"
     ],
     "language": "python",
     "metadata": {},
     "outputs": []
    },
    {
     "cell_type": "markdown",
     "metadata": {},
     "source": [
      "###Exercise \n",
      "\n",
      "Can you write small_df to an excel file?\n",
      "\n",
      "small_df.to_excel?"
     ]
    },
    {
     "cell_type": "code",
     "collapsed": false,
     "input": [
      "#create an excel file\n",
      "small_df.to_excel('simple_sightings.xls')"
     ],
     "language": "python",
     "metadata": {},
     "outputs": []
    },
    {
     "cell_type": "markdown",
     "metadata": {},
     "source": [
      "###Excel Files\n",
      "\n",
      "Pandas can also be used to read Excel Files. This is a little different. Excel Files can hold multiple **sheets**. \n",
      "\n",
      "A DataFrame can only hold one sheet from the ExcelFile. \n",
      "So we can load the Excel File and then **parse** one sheet.\n"
     ]
    },
    {
     "cell_type": "code",
     "collapsed": false,
     "input": [
      "excelfile = pd.ExcelFile('sightings.xls')"
     ],
     "language": "python",
     "metadata": {},
     "outputs": []
    },
    {
     "cell_type": "code",
     "collapsed": false,
     "input": [
      "# Excel files can hold multiple sheets, so we need to choose which sheet we would like to load\n",
      "\n",
      "excelfile.sheet_names"
     ],
     "language": "python",
     "metadata": {},
     "outputs": []
    },
    {
     "cell_type": "code",
     "collapsed": false,
     "input": [
      "df = excelfile.parse('Sheet1')"
     ],
     "language": "python",
     "metadata": {},
     "outputs": []
    },
    {
     "cell_type": "code",
     "collapsed": false,
     "input": [
      "# This excel file has 2000 rows\n",
      "## Look at the first 5 rows\n",
      "print df.shape\n",
      "df[:5]"
     ],
     "language": "python",
     "metadata": {},
     "outputs": []
    },
    {
     "cell_type": "code",
     "collapsed": false,
     "input": [
      "## you can also use head() to look at just the beginning of the data frame\n",
      "df.head()"
     ],
     "language": "python",
     "metadata": {},
     "outputs": []
    },
    {
     "cell_type": "code",
     "collapsed": false,
     "input": [
      "## find out something interesting about the data\n",
      "df.describe()"
     ],
     "language": "python",
     "metadata": {},
     "outputs": []
    },
    {
     "cell_type": "code",
     "collapsed": false,
     "input": [
      "## plot some of the data\n",
      "plt.figure(figsize=(5,5))\n",
      "df.boxplot();"
     ],
     "language": "python",
     "metadata": {},
     "outputs": []
    },
    {
     "cell_type": "markdown",
     "metadata": {},
     "source": [
      "### Slicing a dataframe\n",
      "Right now I am counting all animals. What if I only care about Owls?\n",
      "This makes more sense, I can create a simple boolean mask, and create\n",
      "a new data frame of just owls."
     ]
    },
    {
     "cell_type": "code",
     "collapsed": false,
     "input": [
      "# create a new dataframe that only contains Owl data\n",
      "owl_mask = df.Animal == 'Owl'\n",
      "owls = df[owl_mask]"
     ],
     "language": "python",
     "metadata": {},
     "outputs": []
    },
    {
     "cell_type": "code",
     "collapsed": false,
     "input": [
      "# Use describe to learn a little about the Owl data\n",
      "# eg. we have 229 samples, mincount = 1, maxcount = 42\n",
      "owls.describe()"
     ],
     "language": "python",
     "metadata": {},
     "outputs": []
    },
    {
     "cell_type": "markdown",
     "metadata": {},
     "source": [
      "### Exercise\n",
      "\n",
      "1. Create a wolverine mask\n",
      "2. Do we have more Owl or Wolverine samples?\n",
      "3. What is the difference between mean wolverine and mean owl counts"
     ]
    },
    {
     "cell_type": "code",
     "collapsed": false,
     "input": [
      "## create wolverine mask and dataset\n",
      "wolverine_mask = df.Animal == 'Wolverine'\n",
      "wolverines = df[wolverine_mask]"
     ],
     "language": "python",
     "metadata": {},
     "outputs": []
    },
    {
     "cell_type": "code",
     "collapsed": false,
     "input": [
      "## find difference in counts and mean counts\n",
      "print 'wolverines', wolverines.Count.mean()\n",
      "print 'owls', owls.Count.mean()\n",
      "#owls.describe()"
     ],
     "language": "python",
     "metadata": {},
     "outputs": []
    },
    {
     "cell_type": "markdown",
     "metadata": {},
     "source": [
      "### Groupby\n",
      "\n",
      "Instead of creating all these masks, we can also use the groupby method, and calculate the mean number of counts by animal\n"
     ]
    },
    {
     "cell_type": "code",
     "collapsed": false,
     "input": [
      "# use groupby\n",
      "for animal, tmpdat in df.groupby('Animal'):\n",
      "    print animal, tmpdat.Count.mean()"
     ],
     "language": "python",
     "metadata": {},
     "outputs": []
    },
    {
     "cell_type": "markdown",
     "metadata": {},
     "source": [
      "## Iterating through rows of a Panda array\n",
      "\n",
      "Row iteration is a bit different in Pandas.  In general, it's easy to be very explicit about how you're iterating (e.g., by rows or columns).  All dataframes have an `iterrows` and `iteritems` method.  For this exercise, we'll focus on `iterrows`\n",
      "\n",
      "Iterrows - each iteration will return another row of the dataframe as (row_index, vals) pairs."
     ]
    },
    {
     "cell_type": "code",
     "collapsed": false,
     "input": [
      "# Each iteration returns a Pandas Series, not a simple array.  \n",
      "# This lets you do useful things with it when you become a pandas guru...\n",
      "for row, item in owls.iterrows():\n",
      "    print 'Row index is: ', row, '\\nCount is: ', item.Count, '\\n'"
     ],
     "language": "python",
     "metadata": {},
     "outputs": []
    },
    {
     "cell_type": "markdown",
     "metadata": {},
     "source": [
      "###Adding new Columns\n",
      "\n",
      "Pandas also makes it easy to create new columns"
     ]
    },
    {
     "cell_type": "code",
     "collapsed": false,
     "input": [
      "## add a new column based on math form original column\n",
      "df['Count_2'] = df.Count * 2\n"
     ],
     "language": "python",
     "metadata": {},
     "outputs": []
    },
    {
     "cell_type": "code",
     "collapsed": false,
     "input": [
      "df[:10]"
     ],
     "language": "python",
     "metadata": {},
     "outputs": []
    },
    {
     "cell_type": "markdown",
     "metadata": {},
     "source": [
      "## Exercise\n",
      "\n",
      "What if you want to create a new column null values?\n",
      "\n",
      "Create a new column **Gender** with no values\n",
      "\n",
      "Can you do the same thing but set everything to Female?\n"
     ]
    },
    {
     "cell_type": "code",
     "collapsed": false,
     "input": [
      "df['Gender'] = pd.np.nan\n",
      "df[:10]"
     ],
     "language": "python",
     "metadata": {},
     "outputs": []
    },
    {
     "cell_type": "code",
     "collapsed": false,
     "input": [
      "df.Gender = 'Female'\n",
      "df[:10]"
     ],
     "language": "python",
     "metadata": {},
     "outputs": []
    },
    {
     "cell_type": "heading",
     "level": 2,
     "metadata": {},
     "source": [
      "Afterword"
     ]
    },
    {
     "cell_type": "markdown",
     "metadata": {},
     "source": [
      "Remember, `pandas` is an incredibly powerful tool that will take you a while to master (though it will certainly be worth it). This is just a small taste of all the things pandas can do, so don't feel discouraged if it seems totally overwhelming. Once you integrate it into your workflow, you will learn bit by bit. Also don't forget to consult the fantastic community of pythonistas around you here at Berkeley.\n",
      "\n"
     ]
    },
    {
     "cell_type": "markdown",
     "metadata": {},
     "source": [
      "\n"
     ]
    }
   ],
   "metadata": {}
  }
 ]
}