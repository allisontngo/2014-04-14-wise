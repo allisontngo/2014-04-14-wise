{
 "metadata": {
  "name": ""
 },
 "nbformat": 3,
 "nbformat_minor": 0,
 "worksheets": [
  {
   "cells": [
    {
     "cell_type": "markdown",
     "metadata": {},
     "source": [
      "## Pipes and Filters\n",
      "Simple things that work well together. \n",
      "\n",
      "#### Objectives\n",
      "*   Redirect a command's output to a file.\n",
      "*   Process a file instead of keyboard input using redirection.\n",
      "*   Construct command pipelines with two or more stages.\n",
      "*   Explain what usually happens if a program or pipeline isn't given any input to process.\n",
      "*   Explain Unix's \"small pieces, loosely joined\" philosophy.\n"
     ]
    },
    {
     "cell_type": "markdown",
     "metadata": {},
     "source": [
      "#### Get the data\n",
      "We're going to start using these building blocks into power tools. To see how much you can do, we need some a real problem to work on. Let's get some data!"
     ]
    }
   ],
   "metadata": {}
  }
 ]
}